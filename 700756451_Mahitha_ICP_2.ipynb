{
  "nbformat": 4,
  "nbformat_minor": 0,
  "metadata": {
    "colab": {
      "provenance": [],
      "include_colab_link": true
    },
    "kernelspec": {
      "name": "python3",
      "display_name": "Python 3"
    },
    "language_info": {
      "name": "python"
    }
  },
  "cells": [
    {
      "cell_type": "markdown",
      "metadata": {
        "id": "view-in-github",
        "colab_type": "text"
      },
      "source": [
        "<a href=\"https://colab.research.google.com/github/Mahithaneural/neuralnetwork/blob/main/700756451_Mahitha_ICP_2.ipynb\" target=\"_parent\"><img src=\"https://colab.research.google.com/assets/colab-badge.svg\" alt=\"Open In Colab\"/></a>"
      ]
    },
    {
      "cell_type": "markdown",
      "source": [
        "700756451 Mahitha Gunreddy -ICP2"
      ],
      "metadata": {
        "id": "AT9ouNCkErir"
      }
    },
    {
      "cell_type": "code",
      "execution_count": 4,
      "metadata": {
        "colab": {
          "base_uri": "https://localhost:8080/"
        },
        "id": "lIo7s8tFRmrS",
        "outputId": "92a79350-c6ef-4f89-c441-b4c500220025"
      },
      "outputs": [
        {
          "output_type": "stream",
          "name": "stdout",
          "text": [
            "Count of the Employees : 3\n",
            "Average salary of the Employee: 600000.0\n",
            "Employee Name: Mahitha\n",
            "Family Members: 4\n",
            "Employee Annual Salary: 1800000\n",
            "Department: Automation Tester\n",
            "==========\n",
            "Employee Name : Sai Kumar\n",
            "Family Members: 4\n",
            "Employee Annual Salary: 1900000\n",
            "Department: Business Analyst\n",
            "Type of Employment : Fulltime\n",
            "==========\n",
            "Employee Name : Nithya\n",
            "Family Members: 3\n",
            "Employee Annual Salary: 2900000\n",
            "Department: Power BI Developer\n",
            "Type of Employment : Fulltime\n",
            "==========\n"
          ]
        }
      ],
      "source": [
        "# QUE 1\n",
        "\n",
        "class Employee:\n",
        "    # DATA MEMBER TO COUNT THE NUMBER OF EMPLOYEES\n",
        "    empCount = 0\n",
        "\n",
        "    # CONSTRUCTOR TO INITIALIZE NAME, FAMILY, SALARY, DEPARTMENT\n",
        "    def __init__(self, name, family, salary, department):\n",
        "        self.name = name\n",
        "        self.family = family\n",
        "        self.salary = salary\n",
        "        self.department = department\n",
        "        Employee.empCount += 1    # EMPLOYEE COUNT\n",
        "\n",
        "    # FUNCTION FOR AVERAGE SALARY OF EMPLOYEE\n",
        "    def avg_salary(self):\n",
        "        total_salary = 0\n",
        "        total_salary += float(self.salary)\n",
        "        avg = total_salary / Employee.empCount\n",
        "        print('Average salary of the Employee:', avg)\n",
        "\n",
        "    # TO DISPLAY DETAILS OF EMPLOYEE\n",
        "    def display(self):\n",
        "        print('Employee Name:', self.name)\n",
        "        print('Family Members:', self.family)\n",
        "        print('Employee Annual Salary:', self.salary)\n",
        "        print('Department:', self.department)\n",
        "        print(\"==========\")\n",
        "\n",
        "# INHERITING - EMPLOYEE CLASS\n",
        "class Fulltime_Employee(Employee):\n",
        "    def __init__(self, name, family, salary, department, emp_type):\n",
        "        Employee.__init__(self, name, family, salary, department)\n",
        "        self.emp_type = emp_type\n",
        "\n",
        "    #FUNCTION TO DISPLAY EMPLOYEE DETAILS\n",
        "    def display(self):\n",
        "        print(\"Employee Name :\", self.name)\n",
        "        print('Family Members:', self.family)\n",
        "        print('Employee Annual Salary:', self.salary)\n",
        "        print('Department:', self.department)\n",
        "        print('Type of Employment :', self.emp_type)\n",
        "        print(\"==========\")\n",
        "\n",
        "\n",
        "# INSTANCES FOR EMPLOYEE CLASS\n",
        "emp1 = Employee('Mahitha', '4', '1800000', 'Automation Tester')\n",
        "# INSTANCE FOR FULL TIME EMPLOYEE\n",
        "emp2 = Fulltime_Employee('Sai Kumar', '4', '1900000', 'Business Analyst', 'Fulltime')\n",
        "emp3 = Fulltime_Employee('Nithya', '3', '2900000', 'Power BI Developer', 'Fulltime')\n",
        "\n",
        "print(\"Count of the Employees :\", emp1.empCount)\n",
        "emp1.avg_salary()\n",
        "emp1.display()\n",
        "emp2.display()\n",
        "emp3.display()"
      ]
    },
    {
      "cell_type": "code",
      "source": [
        "# QUE 2\n",
        "\n",
        "import numpy as np\n",
        "\n",
        "# creating array of size as 20\n",
        "random_vector = np.random.uniform(1, 20, 20)\n",
        "print(\"Random Vector : \\n\", random_vector)\n",
        "\n",
        "# reshape the array to 4 cross 5\n",
        "random_vector = random_vector.reshape(4,5)\n",
        "print(\"after reshaping (4 by 5): \\n\", random_vector)\n",
        "\n",
        "# replace the maximum in each row\n",
        "random_vector[np.arange(len(random_vector)), random_vector.argmax(1)] = 0\n",
        "print(\"Replacing the maximum in each row : \\n\", random_vector)"
      ],
      "metadata": {
        "colab": {
          "base_uri": "https://localhost:8080/"
        },
        "id": "4ZTg2pv9THAy",
        "outputId": "37dc50de-68d7-44d7-b986-b5daf18cb08e"
      },
      "execution_count": 2,
      "outputs": [
        {
          "output_type": "stream",
          "name": "stdout",
          "text": [
            "Random Vector : \n",
            " [ 7.20959518  2.80959147 11.09229409  5.66887448  6.96125381  6.23449978\n",
            " 19.46962005  2.50717153  6.04925101  1.19091294 14.84372158  2.12727097\n",
            "  4.35798682 11.21499751 14.45989773 17.91441645  9.70952552 19.13302997\n",
            "  8.37469704  1.95343403]\n",
            "after reshaping (4 by 5): \n",
            " [[ 7.20959518  2.80959147 11.09229409  5.66887448  6.96125381]\n",
            " [ 6.23449978 19.46962005  2.50717153  6.04925101  1.19091294]\n",
            " [14.84372158  2.12727097  4.35798682 11.21499751 14.45989773]\n",
            " [17.91441645  9.70952552 19.13302997  8.37469704  1.95343403]]\n",
            "Replacing the maximum in each row : \n",
            " [[ 7.20959518  2.80959147  0.          5.66887448  6.96125381]\n",
            " [ 6.23449978  0.          2.50717153  6.04925101  1.19091294]\n",
            " [ 0.          2.12727097  4.35798682 11.21499751 14.45989773]\n",
            " [17.91441645  9.70952552  0.          8.37469704  1.95343403]]\n"
          ]
        }
      ]
    }
  ]
}